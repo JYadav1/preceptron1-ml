{
 "cells": [
  {
   "cell_type": "markdown",
   "metadata": {},
   "source": [
    "# The Perceptron algorithm, Part 1\n",
    "\n",
    "In this part 1 of the assignment, you will implement the following:\n",
    "\n",
    "1. The Perceptron training procedure.\n",
    "\n",
    "2. Show empirically that the perceptron does not converge on the XOR dataset.\n",
    "\n",
    "3. Train the perceptron on the Shapes dataset and show that it converges.\n",
    "\n",
    "4. Add an engineered feature to the XOR dataset that makes it linearly separable, and train the Perceptron on teh new dataset until convergence."
   ]
  },
  {
   "cell_type": "markdown",
   "metadata": {},
   "source": [
    "## Write Your Name Here:\n"
   ]
  },
  {
   "cell_type": "markdown",
   "metadata": {},
   "source": [
    "# <font color=\"blue\"> Submission Instructions</font>\n",
    "\n",
    "1. Click the Save button at the top of the Jupyter Notebook.\n",
    "2. Please make sure to have entered your name above.\n",
    "3. Select Cell -> All Output -> Clear. This will clear all the outputs from all cells (but will keep the content of ll cells). \n",
    "4. Select Cell -> Run All. This will run all the cells in order, and will take several minutes.\n",
    "5. Once you've rerun everything, select File -> Download as -> PDF via LaTeX and download a PDF version *perceptron.pdf* showing the code and the output of all cells, and save it in the same folder that contains the notebook file *perceptron.ipynb*.\n",
    "6. Look at the PDF file and make sure all your solutions are there, displayed correctly. The PDF is the only thing we will see when grading!\n",
    "7. Submit **both** your PDF and notebook on Canvas."
   ]
  },
  {
   "cell_type": "code",
   "execution_count": 1,
   "metadata": {},
   "outputs": [],
   "source": [
    "import numpy as np\n",
    "import utils"
   ]
  },
  {
   "cell_type": "markdown",
   "metadata": {},
   "source": [
    "## 1. The Perceptron training algorithm\n",
    "Implement the training procedure for the Perceptron algorithm. Run for the specified number of epochs or until convergence, whichever happens first. The algorithm converged when it makes no mistake on the training examples. If the algorithm converged, display a message \"Converged in \\<e\\> epochs!'."
   ]
  },
  {
   "cell_type": "code",
   "execution_count": 2,
   "metadata": {},
   "outputs": [
    {
     "ename": "SyntaxError",
     "evalue": "invalid syntax (<ipython-input-2-bd6b57e8ff9c>, line 12)",
     "output_type": "error",
     "traceback": [
      "\u001b[0;36m  File \u001b[0;32m\"<ipython-input-2-bd6b57e8ff9c>\"\u001b[0;36m, line \u001b[0;32m12\u001b[0m\n\u001b[0;31m    X = # YOUR CODE HERE\u001b[0m\n\u001b[0m        ^\u001b[0m\n\u001b[0;31mSyntaxError\u001b[0m\u001b[0;31m:\u001b[0m invalid syntax\n"
     ]
    }
   ],
   "source": [
    "def train(X, y, E):\n",
    "    \"\"\"Perceptron training function.\n",
    "    Args:\n",
    "        X (np.ndarray): A 2D array training instances, one per row.\n",
    "        y (np.ndarray): A vector of labels.\n",
    "        E (int): the maximum number of epochs.\n",
    "        \n",
    "    Returns:\n",
    "        np.ndarray: The learned vector of weights / parameters.\n",
    "    \"\"\"\n",
    "    # Add bias feature to X.\n",
    "    X = np.column_stack((np.ones(len(X))))\n",
    "    \n",
    "    # Initialize w wtih zero's.\n",
    "    w = np.zeros(X.shape[1])\n",
    "    \n",
    "    for e in range(E):\n",
    "        # YOUR CODE HERE\n",
    "        for i in range(len(X)):\n",
    "            h = w.T@X[i]  \n",
    "        \n",
    "        \n",
    "        \n",
    "        \n",
    "        \n",
    "    return w"
   ]
  },
  {
   "cell_type": "markdown",
   "metadata": {},
   "source": [
    "# 2. Run the Perceptron algorithm on the simple XOR dataset.\n",
    "\n",
    "- Create the dataset and store it in X (the 4 examples with 2 features each) and y (the +1 or -1 labels).\n",
    "\n",
    "- Run the perceptron algorithm for 20 epochs. Store the weight vector after each epoch (you amy have to modify the training procedure above to do this).\n",
    "\n",
    "- After training, display all the weight vectors (one for each epoch).\n",
    "\n",
    "- Do you see any pattern in how the weights change vs. epochs? Can you use this pattern to prove that the perceptron will not converged, no matter how many epochs it is run?"
   ]
  },
  {
   "cell_type": "code",
   "execution_count": null,
   "metadata": {},
   "outputs": [],
   "source": [
    "# YOUR CODE HERE\n",
    "\n",
    "\n",
    "\n"
   ]
  },
  {
   "cell_type": "markdown",
   "metadata": {},
   "source": [
    "## Linear Classification using Perceptrons"
   ]
  },
  {
   "cell_type": "markdown",
   "metadata": {},
   "source": [
    "Load the training examples from the '../data/shapes_colors.csv' file. Put the examples in the array X on rows, and the labels in the array y.\n",
    "Ignore the first row in the file (which contains the headings). Keep in mind that values are separated by commas and that the label is in the first column in the file.\n",
    "Hint: you may want to use the keyworded parameters *skiprows* and *delimiter* for np.loadtxt. See the documentation:\n",
    "https://numpy.org/doc/stable/reference/generated/numpy.loadtxt.html"
   ]
  },
  {
   "cell_type": "code",
   "execution_count": null,
   "metadata": {},
   "outputs": [],
   "source": [
    "shapes = np.loadtxt('YOUR CODE HERE')\n",
    "print(shapes)"
   ]
  },
  {
   "cell_type": "code",
   "execution_count": null,
   "metadata": {},
   "outputs": [],
   "source": [
    "# All columns but the first contain the features.\n",
    "X = \n",
    "print(X)"
   ]
  },
  {
   "cell_type": "code",
   "execution_count": null,
   "metadata": {},
   "outputs": [],
   "source": [
    "# The first column contains the label.\n",
    "y = \n",
    "print(y)"
   ]
  },
  {
   "cell_type": "code",
   "execution_count": null,
   "metadata": {},
   "outputs": [],
   "source": [
    "# Train the Perceptron usign the raw features for 10 epochs.\n",
    "w = train(X, y, 10)\n",
    "print(w)"
   ]
  },
  {
   "cell_type": "markdown",
   "metadata": {},
   "source": [
    "## Nonlinear Classification with Perceptron and Feature Engineering"
   ]
  },
  {
   "cell_type": "code",
   "execution_count": 2,
   "metadata": {},
   "outputs": [],
   "source": [
    "# Create a more complex XOR dataset, with N points clustered around each of the 4 'corners'\n",
    "def xor_dataset(N):\n",
    "    \"\"\"Generate XOR dataset.\n",
    "    Args:\n",
    "        N: number of points per example cluster.\n",
    "        \n",
    "    Returns:\n",
    "        X: A 2D array with examples, one per line.\n",
    "        y: A vector of labels.\n",
    "    \"\"\"\n",
    "    X00 = (0, 0) + (np.random.sample((N, 2)) - 0.5) / 4\n",
    "    y00 = np.full((N,), -1)\n",
    "    X01 = (0, 1) + (np.random.sample((N, 2)) - 0.5) / 4\n",
    "    y01 = np.full((N,), +1)\n",
    "    X10 = (1, 0) + (np.random.sample((N, 2)) - 0.5) / 4\n",
    "    y10 = np.full((N,), +1)\n",
    "    X11 = (1, 1) + (np.random.sample((N, 2)) - 0.5) / 4\n",
    "    y11 = np.full((N,), -1)\n",
    "    \n",
    "    X = np.row_stack((X00, X01, X10, X11))\n",
    "    y = np.concatenate((y00, y01, y10, y11))\n",
    "    \n",
    "    return X, y"
   ]
  },
  {
   "cell_type": "code",
   "execution_count": 3,
   "metadata": {},
   "outputs": [
    {
     "data": {
      "text/plain": [
       "<matplotlib.collections.PathCollection at 0x7fb0200f58e0>"
      ]
     },
     "execution_count": 3,
     "metadata": {},
     "output_type": "execute_result"
    },
    {
     "data": {
      "image/png": "[encoded data removed]",
      "text/plain": [
       "<Figure size 432x288 with 1 Axes>"
      ]
     },
     "metadata": {},
     "output_type": "display_data"
    }
   ],
   "source": [
    "X, y = xor_dataset(5)\n",
    "\n",
    "import matplotlib.pyplot as plt\n",
    "plt.style.use('fivethirtyeight')\n",
    "\n",
    "plt.scatter(X[:,0], X[:,1], c = y)"
   ]
  },
  {
   "cell_type": "code",
   "execution_count": null,
   "metadata": {},
   "outputs": [],
   "source": [
    "# Add a new feature x1 * x2 after the two features in each example from X.\n",
    "Xnew = # YOUR CODE HERE\n",
    "\n",
    "# This import registers the 3D projection, but is otherwise unused.\n",
    "from mpl_toolkits.mplot3d import Axes3D  # noqa: F401 unused import\n",
    "\n",
    "fig = plt.figure()\n",
    "ax = fig.add_subplot(111, projection='3d')\n",
    "ax.scatter(Xnew[:,0], Xnew[:,1], Xnew[:,2], c = y)"
   ]
  },
  {
   "cell_type": "code",
   "execution_count": null,
   "metadata": {},
   "outputs": [],
   "source": [
    "# Train the perceptron on the new XOR dataset using the 2 + 1 features.\n",
    "w = train(Xnew, y, 10)\n",
    "print(w)"
   ]
  },
  {
   "cell_type": "code",
   "execution_count": null,
   "metadata": {},
   "outputs": [],
   "source": [
    "# Display the decision boundary in the original 2D feature space.\n",
    "xx, yy = np.meshgrid((np.arange(15) - 2) / 8, (np.arange(15) - 2) / 8)\n",
    "zz = (-w[0] -w[1] * xx - w[2] * yy) / w[3]\n",
    "print(zz.shape)\n",
    "fig = plt.figure()\n",
    "ax = fig.add_subplot(111, projection='3d')\n",
    "ax.scatter(Xnew[:,0], Xnew[:,1], Xnew[:,2], c = y)\n",
    "ax.plot_surface(xx, yy, zz, alpha=0.2)"
   ]
  },
  {
   "cell_type": "code",
   "execution_count": null,
   "metadata": {},
   "outputs": [],
   "source": [
    "def predict(Xraw):\n",
    "    # Add the engineered feature, to the right.\n",
    "    Xnew = # YOUR CODE HERE\n",
    "    \n",
    "    # Add the bias feature. to the left.\n",
    "    Xones = # YOUR CODE HERE\n",
    "    \n",
    "    # Compute prediction vector, where for each example x in Xones the output should be wTx.\n",
    "    pred = # YOUR CODE HERE\n",
    "    \n",
    "    return pred"
   ]
  },
  {
   "cell_type": "code",
   "execution_count": null,
   "metadata": {},
   "outputs": [],
   "source": [
    "import utils\n",
    "utils.plot_decision_boundary(predict, X.T, y)"
   ]
  },
  {
   "cell_type": "markdown",
   "metadata": {},
   "source": [
    "## Analysis\n",
    "Include an analysis of the results that you obtained in the experiments above."
   ]
  },
  {
   "cell_type": "markdown",
   "metadata": {},
   "source": [
    "## Bonus\n",
    "\n",
    "Anything extra goes here."
   ]
  },
  {
   "cell_type": "code",
   "execution_count": null,
   "metadata": {},
   "outputs": [],
   "source": []
  }
 ],
 "metadata": {
  "kernelspec": {
   "display_name": "Python 3",
   "language": "python",
   "name": "python3"
  },
  "language_info": {
   "codemirror_mode": {
    "name": "ipython",
    "version": 3
   },
   "file_extension": ".py",
   "mimetype": "text/x-python",
   "name": "python",
   "nbconvert_exporter": "python",
   "pygments_lexer": "ipython3",
   "version": "3.8.3"
  }
 },
 "nbformat": 4,
 "nbformat_minor": 2
}
